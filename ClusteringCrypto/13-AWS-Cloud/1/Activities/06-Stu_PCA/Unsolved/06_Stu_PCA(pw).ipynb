{
 "cells": [
  {
   "cell_type": "markdown",
   "metadata": {},
   "source": [
    "# Students Do: PCA in Action\n",
    "\n",
    "In this activity, you will use PCA to reduce the dimensions of the consumers shopping dataset from `4` to `2` features. After applying PCA, you will use the principal components data, to fit a K-Means model with `k=6` and make some conclusions."
   ]
  },
  {
   "cell_type": "code",
   "execution_count": 71,
   "metadata": {},
   "outputs": [],
   "source": [
    "# Initial imports\n",
    "import pandas as pd\n",
    "from pathlib import Path\n",
    "from sklearn.preprocessing import StandardScaler\n",
    "from sklearn.decomposition import PCA\n",
    "from sklearn.cluster import KMeans\n",
    "import plotly.express as px\n",
    "import hvplot.pandas\n"
   ]
  },
  {
   "cell_type": "markdown",
   "metadata": {},
   "source": [
    "## Instructions\n",
    "\n",
    "1. Import the preprocessed data from the customers shopping dataset into a DataFrame called `df_shopping`."
   ]
  },
  {
   "cell_type": "code",
   "execution_count": 72,
   "metadata": {},
   "outputs": [
    {
     "data": {
      "text/html": [
       "<div>\n",
       "<style scoped>\n",
       "    .dataframe tbody tr th:only-of-type {\n",
       "        vertical-align: middle;\n",
       "    }\n",
       "\n",
       "    .dataframe tbody tr th {\n",
       "        vertical-align: top;\n",
       "    }\n",
       "\n",
       "    .dataframe thead th {\n",
       "        text-align: right;\n",
       "    }\n",
       "</style>\n",
       "<table border=\"1\" class=\"dataframe\">\n",
       "  <thead>\n",
       "    <tr style=\"text-align: right;\">\n",
       "      <th></th>\n",
       "      <th>Genre</th>\n",
       "      <th>Age</th>\n",
       "      <th>Annual Income</th>\n",
       "      <th>Spending Score (1-100)</th>\n",
       "    </tr>\n",
       "  </thead>\n",
       "  <tbody>\n",
       "    <tr>\n",
       "      <th>0</th>\n",
       "      <td>1</td>\n",
       "      <td>19</td>\n",
       "      <td>15.0</td>\n",
       "      <td>39</td>\n",
       "    </tr>\n",
       "    <tr>\n",
       "      <th>1</th>\n",
       "      <td>1</td>\n",
       "      <td>21</td>\n",
       "      <td>15.0</td>\n",
       "      <td>81</td>\n",
       "    </tr>\n",
       "    <tr>\n",
       "      <th>2</th>\n",
       "      <td>0</td>\n",
       "      <td>20</td>\n",
       "      <td>16.0</td>\n",
       "      <td>6</td>\n",
       "    </tr>\n",
       "    <tr>\n",
       "      <th>3</th>\n",
       "      <td>0</td>\n",
       "      <td>23</td>\n",
       "      <td>16.0</td>\n",
       "      <td>77</td>\n",
       "    </tr>\n",
       "    <tr>\n",
       "      <th>4</th>\n",
       "      <td>0</td>\n",
       "      <td>31</td>\n",
       "      <td>17.0</td>\n",
       "      <td>40</td>\n",
       "    </tr>\n",
       "  </tbody>\n",
       "</table>\n",
       "</div>"
      ],
      "text/plain": [
       "   Genre  Age  Annual Income  Spending Score (1-100)\n",
       "0      1   19           15.0                      39\n",
       "1      1   21           15.0                      81\n",
       "2      0   20           16.0                       6\n",
       "3      0   23           16.0                      77\n",
       "4      0   31           17.0                      40"
      ]
     },
     "execution_count": 72,
     "metadata": {},
     "output_type": "execute_result"
    }
   ],
   "source": [
    "# Import data\n",
    "file_path = Path(\"Data/shopping_data_cleaned.csv\")\n",
    "df_shopping = pd.read_csv(file_path)\n",
    "df_shopping.head()\n"
   ]
  },
  {
   "cell_type": "markdown",
   "metadata": {},
   "source": [
    "2. Standardize the data of all the DataFrame features."
   ]
  },
  {
   "cell_type": "code",
   "execution_count": 73,
   "metadata": {},
   "outputs": [
    {
     "name": "stdout",
     "output_type": "stream",
     "text": [
      "[[ 1.12815215 -1.42456879 -1.73899919 -0.43480148]\n",
      " [ 1.12815215 -1.28103541 -1.73899919  1.19570407]\n",
      " [-0.88640526 -1.3528021  -1.70082976 -1.71591298]\n",
      " [-0.88640526 -1.13750203 -1.70082976  1.04041783]\n",
      " [-0.88640526 -0.56336851 -1.66266033 -0.39597992]]\n"
     ]
    }
   ],
   "source": [
    "# Standardize data\n",
    "shopping_scaled = StandardScaler().fit_transform(df_shopping)\n",
    "print(shopping_scaled[0:5])"
   ]
  },
  {
   "cell_type": "markdown",
   "metadata": {},
   "source": [
    "3. Apply PCA to reduce dimensions from 4 to 2 and create a DataFrame with the principal components data."
   ]
  },
  {
   "cell_type": "code",
   "execution_count": 74,
   "metadata": {},
   "outputs": [],
   "source": [
    "# Initialize PCA model\n",
    "pca = PCA(n_components=2)\n",
    "# Get two principal components for the data.\n",
    "shopping_pca = pca.fit_transform(shopping_scaled)\n",
    "\n"
   ]
  },
  {
   "cell_type": "code",
   "execution_count": 75,
   "metadata": {},
   "outputs": [
    {
     "data": {
      "text/html": [
       "<div>\n",
       "<style scoped>\n",
       "    .dataframe tbody tr th:only-of-type {\n",
       "        vertical-align: middle;\n",
       "    }\n",
       "\n",
       "    .dataframe tbody tr th {\n",
       "        vertical-align: top;\n",
       "    }\n",
       "\n",
       "    .dataframe thead th {\n",
       "        text-align: right;\n",
       "    }\n",
       "</style>\n",
       "<table border=\"1\" class=\"dataframe\">\n",
       "  <thead>\n",
       "    <tr style=\"text-align: right;\">\n",
       "      <th></th>\n",
       "      <th>principle component 1</th>\n",
       "      <th>principle component 2</th>\n",
       "    </tr>\n",
       "  </thead>\n",
       "  <tbody>\n",
       "    <tr>\n",
       "      <th>0</th>\n",
       "      <td>-0.406383</td>\n",
       "      <td>-0.520714</td>\n",
       "    </tr>\n",
       "    <tr>\n",
       "      <th>1</th>\n",
       "      <td>-1.427673</td>\n",
       "      <td>-0.367310</td>\n",
       "    </tr>\n",
       "    <tr>\n",
       "      <th>2</th>\n",
       "      <td>0.050761</td>\n",
       "      <td>-1.894068</td>\n",
       "    </tr>\n",
       "    <tr>\n",
       "      <th>3</th>\n",
       "      <td>-1.694513</td>\n",
       "      <td>-1.631908</td>\n",
       "    </tr>\n",
       "    <tr>\n",
       "      <th>4</th>\n",
       "      <td>-0.313108</td>\n",
       "      <td>-1.810483</td>\n",
       "    </tr>\n",
       "  </tbody>\n",
       "</table>\n",
       "</div>"
      ],
      "text/plain": [
       "   principle component 1  principle component 2\n",
       "0              -0.406383              -0.520714\n",
       "1              -1.427673              -0.367310\n",
       "2               0.050761              -1.894068\n",
       "3              -1.694513              -1.631908\n",
       "4              -0.313108              -1.810483"
      ]
     },
     "execution_count": 75,
     "metadata": {},
     "output_type": "execute_result"
    }
   ],
   "source": [
    "# Transform PCA data to a DataFrame\n",
    "df_shopping_pca=pd.DataFrame(data=shopping_pca, columns=['principle component 1', 'principle component 2'])\n",
    "df_shopping_pca.head()"
   ]
  },
  {
   "cell_type": "markdown",
   "metadata": {},
   "source": [
    "4. Fetch the explained variance, analyze its value and answer the following question: Are two principal components the best number of new dimensions?"
   ]
  },
  {
   "cell_type": "code",
   "execution_count": 76,
   "metadata": {},
   "outputs": [
    {
     "data": {
      "text/plain": [
       "0.5992069019819846"
      ]
     },
     "execution_count": 76,
     "metadata": {},
     "output_type": "execute_result"
    }
   ],
   "source": [
    "# Fetch the explained variance\n",
    "ev=pca.explained_variance_ratio_.sum()\n",
    "ev\n"
   ]
  },
  {
   "cell_type": "markdown",
   "metadata": {},
   "source": [
    "**Write Your Answer Here**\n",
    "\n"
   ]
  },
  {
   "cell_type": "markdown",
   "metadata": {},
   "source": [
    "5. If you conclude that two principal components is the appropriate number of new dimensions, proceed to step 6, on the contrary, explore what happens if you modify the number of principal components. Once you finish, write your conclusions."
   ]
  },
  {
   "cell_type": "code",
   "execution_count": 77,
   "metadata": {},
   "outputs": [],
   "source": [
    "# Initialize PCA model\n",
    "pca2 = PCA(n_components=3)\n",
    "# Get three principal components for the data.\n",
    "shopping_pca2 = pca2.fit_transform(shopping_scaled)\n"
   ]
  },
  {
   "cell_type": "code",
   "execution_count": 78,
   "metadata": {},
   "outputs": [
    {
     "ename": "ValueError",
     "evalue": "Shape of passed values is (200, 3), indices imply (200, 2)",
     "output_type": "error",
     "traceback": [
      "\u001b[1;31m---------------------------------------------------------------------------\u001b[0m",
      "\u001b[1;31mValueError\u001b[0m                                Traceback (most recent call last)",
      "\u001b[1;32m~\\anaconda3\\envs\\pyvizenv\\lib\\site-packages\\pandas\\core\\internals\\managers.py\u001b[0m in \u001b[0;36mcreate_block_manager_from_blocks\u001b[1;34m(blocks, axes)\u001b[0m\n\u001b[0;32m   1650\u001b[0m                 blocks = [make_block(values=blocks[0],\n\u001b[1;32m-> 1651\u001b[1;33m                                      placement=slice(0, len(axes[0])))]\n\u001b[0m\u001b[0;32m   1652\u001b[0m \u001b[1;33m\u001b[0m\u001b[0m\n",
      "\u001b[1;32m~\\anaconda3\\envs\\pyvizenv\\lib\\site-packages\\pandas\\core\\internals\\blocks.py\u001b[0m in \u001b[0;36mmake_block\u001b[1;34m(values, placement, klass, ndim, dtype, fastpath)\u001b[0m\n\u001b[0;32m   3094\u001b[0m \u001b[1;33m\u001b[0m\u001b[0m\n\u001b[1;32m-> 3095\u001b[1;33m     \u001b[1;32mreturn\u001b[0m \u001b[0mklass\u001b[0m\u001b[1;33m(\u001b[0m\u001b[0mvalues\u001b[0m\u001b[1;33m,\u001b[0m \u001b[0mndim\u001b[0m\u001b[1;33m=\u001b[0m\u001b[0mndim\u001b[0m\u001b[1;33m,\u001b[0m \u001b[0mplacement\u001b[0m\u001b[1;33m=\u001b[0m\u001b[0mplacement\u001b[0m\u001b[1;33m)\u001b[0m\u001b[1;33m\u001b[0m\u001b[1;33m\u001b[0m\u001b[0m\n\u001b[0m\u001b[0;32m   3096\u001b[0m \u001b[1;33m\u001b[0m\u001b[0m\n",
      "\u001b[1;32m~\\anaconda3\\envs\\pyvizenv\\lib\\site-packages\\pandas\\core\\internals\\blocks.py\u001b[0m in \u001b[0;36m__init__\u001b[1;34m(self, values, placement, ndim)\u001b[0m\n\u001b[0;32m     86\u001b[0m                 \u001b[1;34m'Wrong number of items passed {val}, placement implies '\u001b[0m\u001b[1;33m\u001b[0m\u001b[1;33m\u001b[0m\u001b[0m\n\u001b[1;32m---> 87\u001b[1;33m                 '{mgr}'.format(val=len(self.values), mgr=len(self.mgr_locs)))\n\u001b[0m\u001b[0;32m     88\u001b[0m \u001b[1;33m\u001b[0m\u001b[0m\n",
      "\u001b[1;31mValueError\u001b[0m: Wrong number of items passed 3, placement implies 2",
      "\nDuring handling of the above exception, another exception occurred:\n",
      "\u001b[1;31mValueError\u001b[0m                                Traceback (most recent call last)",
      "\u001b[1;32m<ipython-input-78-6f70db370003>\u001b[0m in \u001b[0;36m<module>\u001b[1;34m\u001b[0m\n\u001b[0;32m      1\u001b[0m \u001b[1;31m# Transform PCA data to a DataFrame\u001b[0m\u001b[1;33m\u001b[0m\u001b[1;33m\u001b[0m\u001b[1;33m\u001b[0m\u001b[0m\n\u001b[1;32m----> 2\u001b[1;33m \u001b[0mdf_shopping_pca2\u001b[0m\u001b[1;33m=\u001b[0m\u001b[0mpd\u001b[0m\u001b[1;33m.\u001b[0m\u001b[0mDataFrame\u001b[0m\u001b[1;33m(\u001b[0m\u001b[0mdata\u001b[0m\u001b[1;33m=\u001b[0m\u001b[0mshopping_pca2\u001b[0m\u001b[1;33m,\u001b[0m \u001b[0mcolumns\u001b[0m\u001b[1;33m=\u001b[0m\u001b[1;33m[\u001b[0m\u001b[1;34m'principle component 1'\u001b[0m\u001b[1;33m,\u001b[0m \u001b[1;34m'principle component 2'\u001b[0m \u001b[1;34m'principle component 3'\u001b[0m\u001b[1;33m]\u001b[0m\u001b[1;33m)\u001b[0m\u001b[1;33m\u001b[0m\u001b[1;33m\u001b[0m\u001b[0m\n\u001b[0m\u001b[0;32m      3\u001b[0m \u001b[0mdf_shopping_pca2\u001b[0m\u001b[1;33m.\u001b[0m\u001b[0mhead\u001b[0m\u001b[1;33m(\u001b[0m\u001b[1;33m)\u001b[0m\u001b[1;33m\u001b[0m\u001b[1;33m\u001b[0m\u001b[0m\n",
      "\u001b[1;32m~\\anaconda3\\envs\\pyvizenv\\lib\\site-packages\\pandas\\core\\frame.py\u001b[0m in \u001b[0;36m__init__\u001b[1;34m(self, data, index, columns, dtype, copy)\u001b[0m\n\u001b[0;32m    422\u001b[0m             \u001b[1;32melse\u001b[0m\u001b[1;33m:\u001b[0m\u001b[1;33m\u001b[0m\u001b[1;33m\u001b[0m\u001b[0m\n\u001b[0;32m    423\u001b[0m                 mgr = init_ndarray(data, index, columns, dtype=dtype,\n\u001b[1;32m--> 424\u001b[1;33m                                    copy=copy)\n\u001b[0m\u001b[0;32m    425\u001b[0m \u001b[1;33m\u001b[0m\u001b[0m\n\u001b[0;32m    426\u001b[0m         \u001b[1;31m# For data is list-like, or Iterable (will consume into list)\u001b[0m\u001b[1;33m\u001b[0m\u001b[1;33m\u001b[0m\u001b[1;33m\u001b[0m\u001b[0m\n",
      "\u001b[1;32m~\\anaconda3\\envs\\pyvizenv\\lib\\site-packages\\pandas\\core\\internals\\construction.py\u001b[0m in \u001b[0;36minit_ndarray\u001b[1;34m(values, index, columns, dtype, copy)\u001b[0m\n\u001b[0;32m    165\u001b[0m         \u001b[0mvalues\u001b[0m \u001b[1;33m=\u001b[0m \u001b[0mmaybe_infer_to_datetimelike\u001b[0m\u001b[1;33m(\u001b[0m\u001b[0mvalues\u001b[0m\u001b[1;33m)\u001b[0m\u001b[1;33m\u001b[0m\u001b[1;33m\u001b[0m\u001b[0m\n\u001b[0;32m    166\u001b[0m \u001b[1;33m\u001b[0m\u001b[0m\n\u001b[1;32m--> 167\u001b[1;33m     \u001b[1;32mreturn\u001b[0m \u001b[0mcreate_block_manager_from_blocks\u001b[0m\u001b[1;33m(\u001b[0m\u001b[1;33m[\u001b[0m\u001b[0mvalues\u001b[0m\u001b[1;33m]\u001b[0m\u001b[1;33m,\u001b[0m \u001b[1;33m[\u001b[0m\u001b[0mcolumns\u001b[0m\u001b[1;33m,\u001b[0m \u001b[0mindex\u001b[0m\u001b[1;33m]\u001b[0m\u001b[1;33m)\u001b[0m\u001b[1;33m\u001b[0m\u001b[1;33m\u001b[0m\u001b[0m\n\u001b[0m\u001b[0;32m    168\u001b[0m \u001b[1;33m\u001b[0m\u001b[0m\n\u001b[0;32m    169\u001b[0m \u001b[1;33m\u001b[0m\u001b[0m\n",
      "\u001b[1;32m~\\anaconda3\\envs\\pyvizenv\\lib\\site-packages\\pandas\\core\\internals\\managers.py\u001b[0m in \u001b[0;36mcreate_block_manager_from_blocks\u001b[1;34m(blocks, axes)\u001b[0m\n\u001b[0;32m   1658\u001b[0m         \u001b[0mblocks\u001b[0m \u001b[1;33m=\u001b[0m \u001b[1;33m[\u001b[0m\u001b[0mgetattr\u001b[0m\u001b[1;33m(\u001b[0m\u001b[0mb\u001b[0m\u001b[1;33m,\u001b[0m \u001b[1;34m'values'\u001b[0m\u001b[1;33m,\u001b[0m \u001b[0mb\u001b[0m\u001b[1;33m)\u001b[0m \u001b[1;32mfor\u001b[0m \u001b[0mb\u001b[0m \u001b[1;32min\u001b[0m \u001b[0mblocks\u001b[0m\u001b[1;33m]\u001b[0m\u001b[1;33m\u001b[0m\u001b[1;33m\u001b[0m\u001b[0m\n\u001b[0;32m   1659\u001b[0m         \u001b[0mtot_items\u001b[0m \u001b[1;33m=\u001b[0m \u001b[0msum\u001b[0m\u001b[1;33m(\u001b[0m\u001b[0mb\u001b[0m\u001b[1;33m.\u001b[0m\u001b[0mshape\u001b[0m\u001b[1;33m[\u001b[0m\u001b[1;36m0\u001b[0m\u001b[1;33m]\u001b[0m \u001b[1;32mfor\u001b[0m \u001b[0mb\u001b[0m \u001b[1;32min\u001b[0m \u001b[0mblocks\u001b[0m\u001b[1;33m)\u001b[0m\u001b[1;33m\u001b[0m\u001b[1;33m\u001b[0m\u001b[0m\n\u001b[1;32m-> 1660\u001b[1;33m         \u001b[0mconstruction_error\u001b[0m\u001b[1;33m(\u001b[0m\u001b[0mtot_items\u001b[0m\u001b[1;33m,\u001b[0m \u001b[0mblocks\u001b[0m\u001b[1;33m[\u001b[0m\u001b[1;36m0\u001b[0m\u001b[1;33m]\u001b[0m\u001b[1;33m.\u001b[0m\u001b[0mshape\u001b[0m\u001b[1;33m[\u001b[0m\u001b[1;36m1\u001b[0m\u001b[1;33m:\u001b[0m\u001b[1;33m]\u001b[0m\u001b[1;33m,\u001b[0m \u001b[0maxes\u001b[0m\u001b[1;33m,\u001b[0m \u001b[0me\u001b[0m\u001b[1;33m)\u001b[0m\u001b[1;33m\u001b[0m\u001b[1;33m\u001b[0m\u001b[0m\n\u001b[0m\u001b[0;32m   1661\u001b[0m \u001b[1;33m\u001b[0m\u001b[0m\n\u001b[0;32m   1662\u001b[0m \u001b[1;33m\u001b[0m\u001b[0m\n",
      "\u001b[1;32m~\\anaconda3\\envs\\pyvizenv\\lib\\site-packages\\pandas\\core\\internals\\managers.py\u001b[0m in \u001b[0;36mconstruction_error\u001b[1;34m(tot_items, block_shape, axes, e)\u001b[0m\n\u001b[0;32m   1689\u001b[0m         \u001b[1;32mraise\u001b[0m \u001b[0mValueError\u001b[0m\u001b[1;33m(\u001b[0m\u001b[1;34m\"Empty data passed with indices specified.\"\u001b[0m\u001b[1;33m)\u001b[0m\u001b[1;33m\u001b[0m\u001b[1;33m\u001b[0m\u001b[0m\n\u001b[0;32m   1690\u001b[0m     raise ValueError(\"Shape of passed values is {0}, indices imply {1}\".format(\n\u001b[1;32m-> 1691\u001b[1;33m         passed, implied))\n\u001b[0m\u001b[0;32m   1692\u001b[0m \u001b[1;33m\u001b[0m\u001b[0m\n\u001b[0;32m   1693\u001b[0m \u001b[1;33m\u001b[0m\u001b[0m\n",
      "\u001b[1;31mValueError\u001b[0m: Shape of passed values is (200, 3), indices imply (200, 2)"
     ]
    }
   ],
   "source": [
    "# Transform PCA data to a DataFrame\n",
    "df_shopping_pca2=pd.DataFrame(data=shopping_pca2, columns=['principle component 1', 'principle component 2' 'principle component 3'])\n",
    "df_shopping_pca2.head()\n"
   ]
  },
  {
   "cell_type": "code",
   "execution_count": 79,
   "metadata": {},
   "outputs": [
    {
     "data": {
      "text/plain": [
       "0.8318132878845952"
      ]
     },
     "execution_count": 79,
     "metadata": {},
     "output_type": "execute_result"
    }
   ],
   "source": [
    "# Fetch the explained variance\n",
    "ev2=pca2.explained_variance_ratio_.sum()\n",
    "ev2\n"
   ]
  },
  {
   "cell_type": "markdown",
   "metadata": {},
   "source": [
    "**Write Your Conclusions Here**\n",
    "\n"
   ]
  },
  {
   "cell_type": "markdown",
   "metadata": {},
   "source": [
    "6. Fit the K-Means algorithm with `k=6` and the principal components data."
   ]
  },
  {
   "cell_type": "code",
   "execution_count": 80,
   "metadata": {},
   "outputs": [
    {
     "data": {
      "text/html": [
       "<div>\n",
       "<style scoped>\n",
       "    .dataframe tbody tr th:only-of-type {\n",
       "        vertical-align: middle;\n",
       "    }\n",
       "\n",
       "    .dataframe tbody tr th {\n",
       "        vertical-align: top;\n",
       "    }\n",
       "\n",
       "    .dataframe thead th {\n",
       "        text-align: right;\n",
       "    }\n",
       "</style>\n",
       "<table border=\"1\" class=\"dataframe\">\n",
       "  <thead>\n",
       "    <tr style=\"text-align: right;\">\n",
       "      <th></th>\n",
       "      <th>principle component 1</th>\n",
       "      <th>principle component 2</th>\n",
       "      <th>class</th>\n",
       "    </tr>\n",
       "  </thead>\n",
       "  <tbody>\n",
       "    <tr>\n",
       "      <th>0</th>\n",
       "      <td>-0.406383</td>\n",
       "      <td>-0.520714</td>\n",
       "      <td>2</td>\n",
       "    </tr>\n",
       "    <tr>\n",
       "      <th>1</th>\n",
       "      <td>-1.427673</td>\n",
       "      <td>-0.367310</td>\n",
       "      <td>1</td>\n",
       "    </tr>\n",
       "    <tr>\n",
       "      <th>2</th>\n",
       "      <td>0.050761</td>\n",
       "      <td>-1.894068</td>\n",
       "      <td>2</td>\n",
       "    </tr>\n",
       "    <tr>\n",
       "      <th>3</th>\n",
       "      <td>-1.694513</td>\n",
       "      <td>-1.631908</td>\n",
       "      <td>1</td>\n",
       "    </tr>\n",
       "    <tr>\n",
       "      <th>4</th>\n",
       "      <td>-0.313108</td>\n",
       "      <td>-1.810483</td>\n",
       "      <td>2</td>\n",
       "    </tr>\n",
       "  </tbody>\n",
       "</table>\n",
       "</div>"
      ],
      "text/plain": [
       "   principle component 1  principle component 2  class\n",
       "0              -0.406383              -0.520714      2\n",
       "1              -1.427673              -0.367310      1\n",
       "2               0.050761              -1.894068      2\n",
       "3              -1.694513              -1.631908      1\n",
       "4              -0.313108              -1.810483      2"
      ]
     },
     "execution_count": 80,
     "metadata": {},
     "output_type": "execute_result"
    }
   ],
   "source": [
    "# Initialize the K-Means model\n",
    "model = KMeans(n_clusters=3, random_state=0)\n",
    "\n",
    "# Fit the model\n",
    "model.fit(df_shopping_pca2)\n",
    "\n",
    "# Predict clusters\n",
    "predictions = model.predict(df_shopping_pca2)\n",
    "\n",
    "# Add the predicted class columns\n",
    "df_shopping_pca2[\"class\"] = model.labels_\n",
    "df_shopping_pca2.head()"
   ]
  },
  {
   "cell_type": "markdown",
   "metadata": {},
   "source": [
    "7. Plot the resulting clusters, use the appropriate scatter plot depending on the number of dimensions you have."
   ]
  },
  {
   "cell_type": "code",
   "execution_count": 81,
   "metadata": {},
   "outputs": [
    {
     "data": {
      "application/vnd.plotly.v1+json": {
       "config": {
        "plotlyServerURL": "https://plot.ly"
       },
       "data": [
        {
         "hovertemplate": "class=%{marker.color}<br>principle component 1=%{x}<br>principle component 2=%{y}<extra></extra>",
         "legendgroup": "2",
         "marker": {
          "color": [
           2,
           2,
           2,
           2,
           2,
           2,
           2,
           2,
           2,
           2,
           2,
           2,
           2,
           2,
           2,
           2,
           2,
           2,
           2,
           2,
           2,
           2,
           2,
           2,
           2,
           2,
           2,
           2,
           2,
           2,
           2,
           2,
           2,
           2,
           2,
           2,
           2,
           2,
           2,
           2,
           2,
           2,
           2,
           2,
           2,
           2,
           2,
           2,
           2,
           2,
           2,
           2,
           2
          ],
          "coloraxis": "coloraxis",
          "symbol": "circle"
         },
         "mode": "markers",
         "name": "2",
         "scene": "scene",
         "showlegend": true,
         "type": "scatter3d",
         "x": [
          -0.40638271515795615,
          0.050760570649846515,
          -0.31310838264528756,
          0.7908211244257622,
          -1.2162947672439128,
          1.6858225266861893,
          1.1744362769650303,
          0.01677282525020262,
          0.4880903105484131,
          1.3589149217937675,
          1.5131593111179191,
          0.5888329082822403,
          0.36842644009595643,
          1.2651569258897108,
          0.8393445904066096,
          0.30243244384012713,
          1.4938759431071367,
          -0.8782291512115817,
          0.8904217399754455,
          0.21954068055520146,
          -0.7025923326402432,
          -0.47051916051531545,
          -0.37178251253093914,
          0.24970996494043726,
          -0.6924866296286236,
          0.48551726967594405,
          0.401316916474127,
          1.1371790315325558,
          0.3087196858373379,
          0.005441712322807765,
          1.2929844217837312,
          -0.4576079371069308,
          0.4160212938629894,
          0.8709062189112092,
          0.684235085114437,
          0.022783527502131966,
          0.5135971765800981,
          0.31215759494731304,
          0.38243378412310114,
          0.4553676690460309,
          1.1037596043989706,
          0.12122395198590415,
          -0.32705724960782157,
          0.28013108613444904,
          0.35173612318380804,
          1.1374308683413317,
          -0.03177591786850684,
          1.1755327240546327,
          0.05769931091423401,
          0.582648530041468,
          0.15993793845573573,
          0.020862232627353317,
          0.30084673997659755
         ],
         "y": [
          -0.5207136347541803,
          -1.8940677431734174,
          -1.8104827229475513,
          -1.9472711231346216,
          -1.6164046413069488,
          -2.023944788816324,
          -0.6127909605390405,
          -1.7434457225503461,
          -0.39292114499291475,
          -1.8286693574393091,
          -1.7645119588688012,
          -1.6254161367177853,
          -1.5630064477055965,
          -1.581258539665388,
          -1.4879386679529738,
          -1.3196008889709383,
          -1.4701325172117263,
          -1.0837365309459652,
          -1.3499077218383488,
          -1.2199558687981904,
          -1.0808569291192678,
          -1.1157739296227096,
          -1.1306568411100706,
          -1.166116410270154,
          -0.9949473431804701,
          -1.1723963625393459,
          -1.1305945011699432,
          -1.1540164731713933,
          -1.0292298238810331,
          -0.9542259428324907,
          -1.1482759720309363,
          -0.8843903830616534,
          -0.9868370801359402,
          -1.0263190520842718,
          -0.9982713274617584,
          -0.7818330323281906,
          -0.8556738511382906,
          -0.8253358483008167,
          -0.7485858164579086,
          -0.7302511232810982,
          -0.7989267383414,
          -0.6214590164695857,
          -0.553913734913709,
          -0.6455014820528362,
          -0.5979591195429768,
          -0.6872410034821114,
          -0.48172555698778385,
          -0.6345459046795788,
          -0.4662564394165924,
          -0.4868299795614083,
          -0.42329307457270116,
          -0.40211150830320985,
          -0.12316689671935598
         ]
        },
        {
         "hovertemplate": "class=%{marker.color}<br>principle component 1=%{x}<br>principle component 2=%{y}<extra></extra>",
         "legendgroup": "1",
         "marker": {
          "color": [
           1,
           1,
           1,
           1,
           1,
           1,
           1,
           1,
           1,
           1,
           1,
           1,
           1,
           1,
           1,
           1,
           1,
           1,
           1,
           1,
           1,
           1,
           1,
           1,
           1,
           1,
           1,
           1,
           1,
           1,
           1,
           1,
           1,
           1,
           1,
           1,
           1,
           1,
           1,
           1,
           1,
           1,
           1,
           1,
           1,
           1,
           1,
           1,
           1,
           1,
           1,
           1,
           1,
           1,
           1,
           1,
           1,
           1,
           1,
           1,
           1,
           1,
           1,
           1,
           1,
           1,
           1,
           1,
           1,
           1,
           1,
           1,
           1,
           1,
           1,
           1,
           1,
           1,
           1,
           1,
           1,
           1,
           1,
           1,
           1,
           1
          ],
          "coloraxis": "coloraxis",
          "symbol": "diamond"
         },
         "mode": "markers",
         "name": "1",
         "scene": "scene",
         "showlegend": true,
         "type": "scatter3d",
         "x": [
          -1.4276728699542167,
          -1.6945131001694214,
          -1.7174462723869521,
          -2.1483215883542037,
          -1.6894703776419508,
          -1.6460733883910472,
          -1.3261307015730726,
          -1.0784245398454684,
          -1.6637316850276547,
          -1.0189505128416603,
          -0.7229727219419849,
          -1.062411572539715,
          -0.20618822719626922,
          -1.96420413814542,
          -1.6898306715897056,
          -1.8732969500021552,
          -1.9038655693749484,
          -1.2464443678738257,
          -1.7941586766122888,
          -1.5782477713162941,
          -1.3304766384693403,
          -0.2815077131008845,
          -0.8106544702734058,
          -0.840256337064781,
          -0.9967581864763174,
          -0.9473898624841293,
          -0.4698679887189818,
          -1.036652295497897,
          -1.2687254676228248,
          -1.1667189931347768,
          -0.7078677824225239,
          -0.5193003831583205,
          -0.5166629453678586,
          -0.7872373081936447,
          -0.6343664799057337,
          -0.7451691668163114,
          -0.49839251797472034,
          -0.8705731196287985,
          -1.289549578603952,
          -0.6044293485739516,
          -1.1793783797343855,
          -1.1833446653984179,
          -0.47685226407791026,
          -0.36087691240116326,
          -0.8182523512624207,
          -0.42701873330661605,
          -1.3121027731184058,
          -0.8760175526895807,
          -0.4414081041117506,
          -0.39203978011956236,
          -0.4620829155696982,
          -1.1525632502566512,
          -1.7048762333723566,
          -0.6847477445155659,
          -0.9822215652229159,
          -1.2185581471846794,
          -0.4749103847756099,
          -1.5308004157280424,
          -1.5231649685727804,
          -1.1843576060160617,
          -1.040516043876333,
          -0.7403398142591715,
          -0.9417144247726071,
          -1.8314409514521108,
          -1.3899956263663324,
          -1.256659102225781,
          -1.5729326275525262,
          -1.7413333339561599,
          -1.0154088393030478,
          -1.697092060895272,
          -0.4213248389828122,
          -0.9388057928888883,
          -0.9972033830292591,
          -1.6056555955257505,
          -0.8284024409658685,
          -0.9946300156859477,
          -1.509008325022456,
          -1.710680059708695,
          -1.4295356877643817,
          -0.7553848018404656,
          -1.2862606425463141,
          -1.0570570612653016,
          -1.349849354065135,
          -1.1795717394785505,
          -0.7237191611767131,
          -1.065015236202071
         ],
         "y": [
          -0.36731019850646174,
          -1.6319080463761104,
          -1.5992641803386438,
          -1.5053736875274308,
          -1.5454278393385146,
          -1.5225125897317824,
          -0.23671914937156435,
          -0.2447156412290113,
          -1.4325977447537221,
          -0.16624751103389468,
          -0.18168701739897558,
          -0.04311506139166234,
          -0.1719069697212854,
          -1.2121199030829215,
          -1.2241232127435846,
          0.22485527030599564,
          -1.104440986026849,
          -1.174259402048701,
          -1.004203524714457,
          0.32625267632892296,
          -1.0156190695273366,
          0.24789831732088882,
          -0.8895742893243901,
          0.44888152110434376,
          0.5307687042548931,
          0.5233272485112127,
          0.6264583378713806,
          -0.622127823770435,
          -0.587210823266993,
          -0.5150382303260995,
          -0.5550923821371829,
          0.779947492864025,
          0.8085829823343219,
          -0.4846519137695769,
          0.8555375799963977,
          -0.43252899482979623,
          0.8641389804506137,
          -0.4136392655392189,
          -0.3214653123162615,
          0.9385862666214361,
          -0.2796463071978739,
          -0.27907412733512205,
          1.0067504829951597,
          -0.2864532431386754,
          1.1161100933775643,
          -0.24693698369237357,
          -0.114141375087441,
          1.1831143650407525,
          1.11786092046379,
          1.1104194647201093,
          -0.18336734996964946,
          -0.07976382571273388,
          0.03244421652630447,
          1.212914475513445,
          -0.047104374690235526,
          1.3514692877717729,
          -0.06481389799338555,
          0.09374071578305297,
          1.455680838153364,
          0.0708613124382447,
          1.4121936071657695,
          1.3669726928409345,
          0.06343544167959594,
          0.19738008630189227,
          0.13098072323547255,
          0.11094663421939163,
          0.18766549609223607,
          0.27126921883104105,
          0.2787761320427556,
          0.41044608343512295,
          1.5817754908393125,
          1.6596231274526287,
          1.66820738415786,
          0.45512754663122307,
          1.6722329044740145,
          1.842890572877121,
          0.703127688016881,
          0.762674918951357,
          2.083400944800049,
          2.040504596188145,
          0.8446104158209552,
          0.8102671539442186,
          1.1458606921229124,
          1.3245678423943745,
          2.765010382457772,
          3.1372561632411022
         ]
        },
        {
         "hovertemplate": "class=%{marker.color}<br>principle component 1=%{x}<br>principle component 2=%{y}<extra></extra>",
         "legendgroup": "0",
         "marker": {
          "color": [
           0,
           0,
           0,
           0,
           0,
           0,
           0,
           0,
           0,
           0,
           0,
           0,
           0,
           0,
           0,
           0,
           0,
           0,
           0,
           0,
           0,
           0,
           0,
           0,
           0,
           0,
           0,
           0,
           0,
           0,
           0,
           0,
           0,
           0,
           0,
           0,
           0,
           0,
           0,
           0,
           0,
           0,
           0,
           0,
           0,
           0,
           0,
           0,
           0,
           0,
           0,
           0,
           0,
           0,
           0,
           0,
           0,
           0,
           0,
           0,
           0
          ],
          "coloraxis": "coloraxis",
          "symbol": "square"
         },
         "mode": "markers",
         "name": "0",
         "scene": "scene",
         "showlegend": true,
         "type": "scatter3d",
         "x": [
          2.774286226088667,
          2.629050844956019,
          1.4875878004377272,
          2.5475919417038155,
          2.201317214598138,
          1.099728921816946,
          1.0018365576425534,
          0.916095461470392,
          1.8686299121045262,
          1.078272422122609,
          1.650860881708704,
          1.4381548317970319,
          1.6768317273764535,
          1.3459578368199991,
          0.381292376140314,
          1.1405519695231816,
          0.0958845943591655,
          1.9009082577261665,
          0.8295735777340397,
          0.7481787449289877,
          0.9346177256723064,
          1.4190395463925523,
          0.6104116290174968,
          1.1236941442060868,
          1.8948525945810513,
          1.6627794224561239,
          1.5067418791514946,
          0.8721257089736029,
          2.3020342087232604,
          1.7629489304732235,
          0.5362090958896777,
          1.1957003175874015,
          0.35327209470348453,
          1.8903588330351606,
          0.5954509698400322,
          1.0909071057857118,
          1.3505121245054137,
          0.8478645895546996,
          1.1026387808437053,
          1.48097905780205,
          1.3328740858254853,
          1.0400427519858488,
          0.4849835474698612,
          1.4544595776235634,
          1.2192846616012663,
          0.2641574863393405,
          1.3069869943602088,
          1.1895156128757869,
          1.4271607847544416,
          2.142050063509921,
          2.2169249270629523,
          0.1778677556564419,
          1.5473086450691282,
          0.18820561172151518,
          1.2295390899347085,
          0.7739577057261282,
          0.2683756088121493,
          1.0887092711656519,
          1.0928883525986575,
          0.6727511283562362,
          0.7670962256094757
         ],
         "y": [
          -0.8829876717475786,
          -0.8612370431432423,
          -0.572676027551783,
          -0.5279135219026172,
          -0.3881956474058473,
          -0.047514830402514044,
          0.08362969608219709,
          0.09679762674525594,
          -0.0176710825026329,
          0.15981066559025983,
          0.07337409597985271,
          0.16384865336353965,
          0.1569949624676428,
          0.35284257370740973,
          0.498237050640556,
          0.38375275640763545,
          0.5411676867504304,
          0.2692700209386683,
          0.43069176908467943,
          0.6179675910763406,
          0.6191290945508293,
          0.5750665661725765,
          0.6969923161491774,
          0.6489260874956151,
          0.5327252536744391,
          0.5676422541778812,
          0.5911109811344264,
          0.9203809296167398,
          0.705154010440663,
          0.786437843758397,
          1.0297483338189108,
          -0.4037298616894145,
          1.0864331066756745,
          -0.45006396576968954,
          1.1374256921110297,
          1.062435837283566,
          1.0527228058378633,
          -0.20559508976259352,
          -0.24394672820649996,
          1.0332624554484877,
          1.055586822679529,
          -0.2055810635415151,
          1.270863614338608,
          1.2411585725400598,
          1.3058585397672093,
          0.14486733368238305,
          1.3219029547290593,
          1.3396483242941328,
          -0.0010821793645301554,
          1.225179615046244,
          1.3597774819843578,
          0.44955224792480436,
          1.6065693649404313,
          0.5062526057665999,
          0.4078298702445142,
          0.5349395264838522,
          0.6110706235089131,
          2.113398986440796,
          0.9828408518675884,
          1.2210609455755566,
          2.861930094544689
         ]
        }
       ],
       "layout": {
        "autosize": true,
        "coloraxis": {
         "colorbar": {
          "title": {
           "text": "class"
          }
         },
         "colorscale": [
          [
           0,
           "#0d0887"
          ],
          [
           0.1111111111111111,
           "#46039f"
          ],
          [
           0.2222222222222222,
           "#7201a8"
          ],
          [
           0.3333333333333333,
           "#9c179e"
          ],
          [
           0.4444444444444444,
           "#bd3786"
          ],
          [
           0.5555555555555556,
           "#d8576b"
          ],
          [
           0.6666666666666666,
           "#ed7953"
          ],
          [
           0.7777777777777778,
           "#fb9f3a"
          ],
          [
           0.8888888888888888,
           "#fdca26"
          ],
          [
           1,
           "#f0f921"
          ]
         ]
        },
        "legend": {
         "title": {
          "text": "class"
         },
         "tracegroupgap": 0,
         "x": 0,
         "y": 1
        },
        "margin": {
         "t": 60
        },
        "scene": {
         "aspectmode": "auto",
         "aspectratio": {
          "x": 1,
          "y": 1,
          "z": 1
         },
         "domain": {
          "x": [
           0,
           1
          ],
          "y": [
           0,
           1
          ]
         },
         "xaxis": {
          "title": {
           "text": "principle component 1"
          },
          "type": "linear"
         },
         "yaxis": {
          "title": {
           "text": "principle component 2"
          },
          "type": "linear"
         }
        },
        "template": {
         "data": {
          "bar": [
           {
            "error_x": {
             "color": "#2a3f5f"
            },
            "error_y": {
             "color": "#2a3f5f"
            },
            "marker": {
             "line": {
              "color": "#E5ECF6",
              "width": 0.5
             }
            },
            "type": "bar"
           }
          ],
          "barpolar": [
           {
            "marker": {
             "line": {
              "color": "#E5ECF6",
              "width": 0.5
             }
            },
            "type": "barpolar"
           }
          ],
          "carpet": [
           {
            "aaxis": {
             "endlinecolor": "#2a3f5f",
             "gridcolor": "white",
             "linecolor": "white",
             "minorgridcolor": "white",
             "startlinecolor": "#2a3f5f"
            },
            "baxis": {
             "endlinecolor": "#2a3f5f",
             "gridcolor": "white",
             "linecolor": "white",
             "minorgridcolor": "white",
             "startlinecolor": "#2a3f5f"
            },
            "type": "carpet"
           }
          ],
          "choropleth": [
           {
            "colorbar": {
             "outlinewidth": 0,
             "ticks": ""
            },
            "type": "choropleth"
           }
          ],
          "contour": [
           {
            "colorbar": {
             "outlinewidth": 0,
             "ticks": ""
            },
            "colorscale": [
             [
              0,
              "#0d0887"
             ],
             [
              0.1111111111111111,
              "#46039f"
             ],
             [
              0.2222222222222222,
              "#7201a8"
             ],
             [
              0.3333333333333333,
              "#9c179e"
             ],
             [
              0.4444444444444444,
              "#bd3786"
             ],
             [
              0.5555555555555556,
              "#d8576b"
             ],
             [
              0.6666666666666666,
              "#ed7953"
             ],
             [
              0.7777777777777778,
              "#fb9f3a"
             ],
             [
              0.8888888888888888,
              "#fdca26"
             ],
             [
              1,
              "#f0f921"
             ]
            ],
            "type": "contour"
           }
          ],
          "contourcarpet": [
           {
            "colorbar": {
             "outlinewidth": 0,
             "ticks": ""
            },
            "type": "contourcarpet"
           }
          ],
          "heatmap": [
           {
            "colorbar": {
             "outlinewidth": 0,
             "ticks": ""
            },
            "colorscale": [
             [
              0,
              "#0d0887"
             ],
             [
              0.1111111111111111,
              "#46039f"
             ],
             [
              0.2222222222222222,
              "#7201a8"
             ],
             [
              0.3333333333333333,
              "#9c179e"
             ],
             [
              0.4444444444444444,
              "#bd3786"
             ],
             [
              0.5555555555555556,
              "#d8576b"
             ],
             [
              0.6666666666666666,
              "#ed7953"
             ],
             [
              0.7777777777777778,
              "#fb9f3a"
             ],
             [
              0.8888888888888888,
              "#fdca26"
             ],
             [
              1,
              "#f0f921"
             ]
            ],
            "type": "heatmap"
           }
          ],
          "heatmapgl": [
           {
            "colorbar": {
             "outlinewidth": 0,
             "ticks": ""
            },
            "colorscale": [
             [
              0,
              "#0d0887"
             ],
             [
              0.1111111111111111,
              "#46039f"
             ],
             [
              0.2222222222222222,
              "#7201a8"
             ],
             [
              0.3333333333333333,
              "#9c179e"
             ],
             [
              0.4444444444444444,
              "#bd3786"
             ],
             [
              0.5555555555555556,
              "#d8576b"
             ],
             [
              0.6666666666666666,
              "#ed7953"
             ],
             [
              0.7777777777777778,
              "#fb9f3a"
             ],
             [
              0.8888888888888888,
              "#fdca26"
             ],
             [
              1,
              "#f0f921"
             ]
            ],
            "type": "heatmapgl"
           }
          ],
          "histogram": [
           {
            "marker": {
             "colorbar": {
              "outlinewidth": 0,
              "ticks": ""
             }
            },
            "type": "histogram"
           }
          ],
          "histogram2d": [
           {
            "colorbar": {
             "outlinewidth": 0,
             "ticks": ""
            },
            "colorscale": [
             [
              0,
              "#0d0887"
             ],
             [
              0.1111111111111111,
              "#46039f"
             ],
             [
              0.2222222222222222,
              "#7201a8"
             ],
             [
              0.3333333333333333,
              "#9c179e"
             ],
             [
              0.4444444444444444,
              "#bd3786"
             ],
             [
              0.5555555555555556,
              "#d8576b"
             ],
             [
              0.6666666666666666,
              "#ed7953"
             ],
             [
              0.7777777777777778,
              "#fb9f3a"
             ],
             [
              0.8888888888888888,
              "#fdca26"
             ],
             [
              1,
              "#f0f921"
             ]
            ],
            "type": "histogram2d"
           }
          ],
          "histogram2dcontour": [
           {
            "colorbar": {
             "outlinewidth": 0,
             "ticks": ""
            },
            "colorscale": [
             [
              0,
              "#0d0887"
             ],
             [
              0.1111111111111111,
              "#46039f"
             ],
             [
              0.2222222222222222,
              "#7201a8"
             ],
             [
              0.3333333333333333,
              "#9c179e"
             ],
             [
              0.4444444444444444,
              "#bd3786"
             ],
             [
              0.5555555555555556,
              "#d8576b"
             ],
             [
              0.6666666666666666,
              "#ed7953"
             ],
             [
              0.7777777777777778,
              "#fb9f3a"
             ],
             [
              0.8888888888888888,
              "#fdca26"
             ],
             [
              1,
              "#f0f921"
             ]
            ],
            "type": "histogram2dcontour"
           }
          ],
          "mesh3d": [
           {
            "colorbar": {
             "outlinewidth": 0,
             "ticks": ""
            },
            "type": "mesh3d"
           }
          ],
          "parcoords": [
           {
            "line": {
             "colorbar": {
              "outlinewidth": 0,
              "ticks": ""
             }
            },
            "type": "parcoords"
           }
          ],
          "pie": [
           {
            "automargin": true,
            "type": "pie"
           }
          ],
          "scatter": [
           {
            "marker": {
             "colorbar": {
              "outlinewidth": 0,
              "ticks": ""
             }
            },
            "type": "scatter"
           }
          ],
          "scatter3d": [
           {
            "line": {
             "colorbar": {
              "outlinewidth": 0,
              "ticks": ""
             }
            },
            "marker": {
             "colorbar": {
              "outlinewidth": 0,
              "ticks": ""
             }
            },
            "type": "scatter3d"
           }
          ],
          "scattercarpet": [
           {
            "marker": {
             "colorbar": {
              "outlinewidth": 0,
              "ticks": ""
             }
            },
            "type": "scattercarpet"
           }
          ],
          "scattergeo": [
           {
            "marker": {
             "colorbar": {
              "outlinewidth": 0,
              "ticks": ""
             }
            },
            "type": "scattergeo"
           }
          ],
          "scattergl": [
           {
            "marker": {
             "colorbar": {
              "outlinewidth": 0,
              "ticks": ""
             }
            },
            "type": "scattergl"
           }
          ],
          "scattermapbox": [
           {
            "marker": {
             "colorbar": {
              "outlinewidth": 0,
              "ticks": ""
             }
            },
            "type": "scattermapbox"
           }
          ],
          "scatterpolar": [
           {
            "marker": {
             "colorbar": {
              "outlinewidth": 0,
              "ticks": ""
             }
            },
            "type": "scatterpolar"
           }
          ],
          "scatterpolargl": [
           {
            "marker": {
             "colorbar": {
              "outlinewidth": 0,
              "ticks": ""
             }
            },
            "type": "scatterpolargl"
           }
          ],
          "scatterternary": [
           {
            "marker": {
             "colorbar": {
              "outlinewidth": 0,
              "ticks": ""
             }
            },
            "type": "scatterternary"
           }
          ],
          "surface": [
           {
            "colorbar": {
             "outlinewidth": 0,
             "ticks": ""
            },
            "colorscale": [
             [
              0,
              "#0d0887"
             ],
             [
              0.1111111111111111,
              "#46039f"
             ],
             [
              0.2222222222222222,
              "#7201a8"
             ],
             [
              0.3333333333333333,
              "#9c179e"
             ],
             [
              0.4444444444444444,
              "#bd3786"
             ],
             [
              0.5555555555555556,
              "#d8576b"
             ],
             [
              0.6666666666666666,
              "#ed7953"
             ],
             [
              0.7777777777777778,
              "#fb9f3a"
             ],
             [
              0.8888888888888888,
              "#fdca26"
             ],
             [
              1,
              "#f0f921"
             ]
            ],
            "type": "surface"
           }
          ],
          "table": [
           {
            "cells": {
             "fill": {
              "color": "#EBF0F8"
             },
             "line": {
              "color": "white"
             }
            },
            "header": {
             "fill": {
              "color": "#C8D4E3"
             },
             "line": {
              "color": "white"
             }
            },
            "type": "table"
           }
          ]
         },
         "layout": {
          "annotationdefaults": {
           "arrowcolor": "#2a3f5f",
           "arrowhead": 0,
           "arrowwidth": 1
          },
          "coloraxis": {
           "colorbar": {
            "outlinewidth": 0,
            "ticks": ""
           }
          },
          "colorscale": {
           "diverging": [
            [
             0,
             "#8e0152"
            ],
            [
             0.1,
             "#c51b7d"
            ],
            [
             0.2,
             "#de77ae"
            ],
            [
             0.3,
             "#f1b6da"
            ],
            [
             0.4,
             "#fde0ef"
            ],
            [
             0.5,
             "#f7f7f7"
            ],
            [
             0.6,
             "#e6f5d0"
            ],
            [
             0.7,
             "#b8e186"
            ],
            [
             0.8,
             "#7fbc41"
            ],
            [
             0.9,
             "#4d9221"
            ],
            [
             1,
             "#276419"
            ]
           ],
           "sequential": [
            [
             0,
             "#0d0887"
            ],
            [
             0.1111111111111111,
             "#46039f"
            ],
            [
             0.2222222222222222,
             "#7201a8"
            ],
            [
             0.3333333333333333,
             "#9c179e"
            ],
            [
             0.4444444444444444,
             "#bd3786"
            ],
            [
             0.5555555555555556,
             "#d8576b"
            ],
            [
             0.6666666666666666,
             "#ed7953"
            ],
            [
             0.7777777777777778,
             "#fb9f3a"
            ],
            [
             0.8888888888888888,
             "#fdca26"
            ],
            [
             1,
             "#f0f921"
            ]
           ],
           "sequentialminus": [
            [
             0,
             "#0d0887"
            ],
            [
             0.1111111111111111,
             "#46039f"
            ],
            [
             0.2222222222222222,
             "#7201a8"
            ],
            [
             0.3333333333333333,
             "#9c179e"
            ],
            [
             0.4444444444444444,
             "#bd3786"
            ],
            [
             0.5555555555555556,
             "#d8576b"
            ],
            [
             0.6666666666666666,
             "#ed7953"
            ],
            [
             0.7777777777777778,
             "#fb9f3a"
            ],
            [
             0.8888888888888888,
             "#fdca26"
            ],
            [
             1,
             "#f0f921"
            ]
           ]
          },
          "colorway": [
           "#636efa",
           "#EF553B",
           "#00cc96",
           "#ab63fa",
           "#FFA15A",
           "#19d3f3",
           "#FF6692",
           "#B6E880",
           "#FF97FF",
           "#FECB52"
          ],
          "font": {
           "color": "#2a3f5f"
          },
          "geo": {
           "bgcolor": "white",
           "lakecolor": "white",
           "landcolor": "#E5ECF6",
           "showlakes": true,
           "showland": true,
           "subunitcolor": "white"
          },
          "hoverlabel": {
           "align": "left"
          },
          "hovermode": "closest",
          "mapbox": {
           "style": "light"
          },
          "paper_bgcolor": "white",
          "plot_bgcolor": "#E5ECF6",
          "polar": {
           "angularaxis": {
            "gridcolor": "white",
            "linecolor": "white",
            "ticks": ""
           },
           "bgcolor": "#E5ECF6",
           "radialaxis": {
            "gridcolor": "white",
            "linecolor": "white",
            "ticks": ""
           }
          },
          "scene": {
           "xaxis": {
            "backgroundcolor": "#E5ECF6",
            "gridcolor": "white",
            "gridwidth": 2,
            "linecolor": "white",
            "showbackground": true,
            "ticks": "",
            "zerolinecolor": "white"
           },
           "yaxis": {
            "backgroundcolor": "#E5ECF6",
            "gridcolor": "white",
            "gridwidth": 2,
            "linecolor": "white",
            "showbackground": true,
            "ticks": "",
            "zerolinecolor": "white"
           },
           "zaxis": {
            "backgroundcolor": "#E5ECF6",
            "gridcolor": "white",
            "gridwidth": 2,
            "linecolor": "white",
            "showbackground": true,
            "ticks": "",
            "zerolinecolor": "white"
           }
          },
          "shapedefaults": {
           "line": {
            "color": "#2a3f5f"
           }
          },
          "ternary": {
           "aaxis": {
            "gridcolor": "white",
            "linecolor": "white",
            "ticks": ""
           },
           "baxis": {
            "gridcolor": "white",
            "linecolor": "white",
            "ticks": ""
           },
           "bgcolor": "#E5ECF6",
           "caxis": {
            "gridcolor": "white",
            "linecolor": "white",
            "ticks": ""
           }
          },
          "title": {
           "x": 0.05
          },
          "xaxis": {
           "automargin": true,
           "gridcolor": "white",
           "linecolor": "white",
           "ticks": "",
           "title": {
            "standoff": 15
           },
           "zerolinecolor": "white",
           "zerolinewidth": 2
          },
          "yaxis": {
           "automargin": true,
           "gridcolor": "white",
           "linecolor": "white",
           "ticks": "",
           "title": {
            "standoff": 15
           },
           "zerolinecolor": "white",
           "zerolinewidth": 2
          }
         }
        }
       }
      },
      "image/png": "[encoded data removed]",
      "text/html": [
       "<div>\n",
       "        \n",
       "        \n",
       "            <div id=\"b1b3edd0-fdac-4eb1-a395-5e58ba70e98d\" class=\"plotly-graph-div\" style=\"height:525px; width:800px;\"></div>\n",
       "            <script type=\"text/javascript\">\n",
       "                require([\"plotly\"], function(Plotly) {\n",
       "                    window.PLOTLYENV=window.PLOTLYENV || {};\n",
       "                    \n",
       "                if (document.getElementById(\"b1b3edd0-fdac-4eb1-a395-5e58ba70e98d\")) {\n",
       "                    Plotly.newPlot(\n",
       "                        'b1b3edd0-fdac-4eb1-a395-5e58ba70e98d',\n",
       "                        [{\"hovertemplate\": \"class=%{marker.color}<br>principle component 1=%{x}<br>principle component 2=%{y}<extra></extra>\", \"legendgroup\": \"2\", \"marker\": {\"color\": [2, 2, 2, 2, 2, 2, 2, 2, 2, 2, 2, 2, 2, 2, 2, 2, 2, 2, 2, 2, 2, 2, 2, 2, 2, 2, 2, 2, 2, 2, 2, 2, 2, 2, 2, 2, 2, 2, 2, 2, 2, 2, 2, 2, 2, 2, 2, 2, 2, 2, 2, 2, 2], \"coloraxis\": \"coloraxis\", \"symbol\": \"circle\"}, \"mode\": \"markers\", \"name\": \"2\", \"scene\": \"scene\", \"showlegend\": true, \"type\": \"scatter3d\", \"x\": [-0.40638271515795615, 0.050760570649846515, -0.31310838264528756, 0.7908211244257622, -1.2162947672439128, 1.6858225266861893, 1.1744362769650303, 0.01677282525020262, 0.4880903105484131, 1.3589149217937675, 1.5131593111179191, 0.5888329082822403, 0.36842644009595643, 1.2651569258897108, 0.8393445904066096, 0.30243244384012713, 1.4938759431071367, -0.8782291512115817, 0.8904217399754455, 0.21954068055520146, -0.7025923326402432, -0.47051916051531545, -0.37178251253093914, 0.24970996494043726, -0.6924866296286236, 0.48551726967594405, 0.401316916474127, 1.1371790315325558, 0.3087196858373379, 0.005441712322807765, 1.2929844217837312, -0.4576079371069308, 0.4160212938629894, 0.8709062189112092, 0.684235085114437, 0.022783527502131966, 0.5135971765800981, 0.31215759494731304, 0.38243378412310114, 0.4553676690460309, 1.1037596043989706, 0.12122395198590415, -0.32705724960782157, 0.28013108613444904, 0.35173612318380804, 1.1374308683413317, -0.03177591786850684, 1.1755327240546327, 0.05769931091423401, 0.582648530041468, 0.15993793845573573, 0.020862232627353317, 0.30084673997659755], \"y\": [-0.5207136347541803, -1.8940677431734174, -1.8104827229475513, -1.9472711231346216, -1.6164046413069488, -2.023944788816324, -0.6127909605390405, -1.7434457225503461, -0.39292114499291475, -1.8286693574393091, -1.7645119588688012, -1.6254161367177853, -1.5630064477055965, -1.581258539665388, -1.4879386679529738, -1.3196008889709383, -1.4701325172117263, -1.0837365309459652, -1.3499077218383488, -1.2199558687981904, -1.0808569291192678, -1.1157739296227096, -1.1306568411100706, -1.166116410270154, -0.9949473431804701, -1.1723963625393459, -1.1305945011699432, -1.1540164731713933, -1.0292298238810331, -0.9542259428324907, -1.1482759720309363, -0.8843903830616534, -0.9868370801359402, -1.0263190520842718, -0.9982713274617584, -0.7818330323281906, -0.8556738511382906, -0.8253358483008167, -0.7485858164579086, -0.7302511232810982, -0.7989267383414, -0.6214590164695857, -0.553913734913709, -0.6455014820528362, -0.5979591195429768, -0.6872410034821114, -0.48172555698778385, -0.6345459046795788, -0.4662564394165924, -0.4868299795614083, -0.42329307457270116, -0.40211150830320985, -0.12316689671935598]}, {\"hovertemplate\": \"class=%{marker.color}<br>principle component 1=%{x}<br>principle component 2=%{y}<extra></extra>\", \"legendgroup\": \"1\", \"marker\": {\"color\": [1, 1, 1, 1, 1, 1, 1, 1, 1, 1, 1, 1, 1, 1, 1, 1, 1, 1, 1, 1, 1, 1, 1, 1, 1, 1, 1, 1, 1, 1, 1, 1, 1, 1, 1, 1, 1, 1, 1, 1, 1, 1, 1, 1, 1, 1, 1, 1, 1, 1, 1, 1, 1, 1, 1, 1, 1, 1, 1, 1, 1, 1, 1, 1, 1, 1, 1, 1, 1, 1, 1, 1, 1, 1, 1, 1, 1, 1, 1, 1, 1, 1, 1, 1, 1, 1], \"coloraxis\": \"coloraxis\", \"symbol\": \"diamond\"}, \"mode\": \"markers\", \"name\": \"1\", \"scene\": \"scene\", \"showlegend\": true, \"type\": \"scatter3d\", \"x\": [-1.4276728699542167, -1.6945131001694214, -1.7174462723869521, -2.1483215883542037, -1.6894703776419508, -1.6460733883910472, -1.3261307015730726, -1.0784245398454684, -1.6637316850276547, -1.0189505128416603, -0.7229727219419849, -1.062411572539715, -0.20618822719626922, -1.96420413814542, -1.6898306715897056, -1.8732969500021552, -1.9038655693749484, -1.2464443678738257, -1.7941586766122888, -1.5782477713162941, -1.3304766384693403, -0.2815077131008845, -0.8106544702734058, -0.840256337064781, -0.9967581864763174, -0.9473898624841293, -0.4698679887189818, -1.036652295497897, -1.2687254676228248, -1.1667189931347768, -0.7078677824225239, -0.5193003831583205, -0.5166629453678586, -0.7872373081936447, -0.6343664799057337, -0.7451691668163114, -0.49839251797472034, -0.8705731196287985, -1.289549578603952, -0.6044293485739516, -1.1793783797343855, -1.1833446653984179, -0.47685226407791026, -0.36087691240116326, -0.8182523512624207, -0.42701873330661605, -1.3121027731184058, -0.8760175526895807, -0.4414081041117506, -0.39203978011956236, -0.4620829155696982, -1.1525632502566512, -1.7048762333723566, -0.6847477445155659, -0.9822215652229159, -1.2185581471846794, -0.4749103847756099, -1.5308004157280424, -1.5231649685727804, -1.1843576060160617, -1.040516043876333, -0.7403398142591715, -0.9417144247726071, -1.8314409514521108, -1.3899956263663324, -1.256659102225781, -1.5729326275525262, -1.7413333339561599, -1.0154088393030478, -1.697092060895272, -0.4213248389828122, -0.9388057928888883, -0.9972033830292591, -1.6056555955257505, -0.8284024409658685, -0.9946300156859477, -1.509008325022456, -1.710680059708695, -1.4295356877643817, -0.7553848018404656, -1.2862606425463141, -1.0570570612653016, -1.349849354065135, -1.1795717394785505, -0.7237191611767131, -1.065015236202071], \"y\": [-0.36731019850646174, -1.6319080463761104, -1.5992641803386438, -1.5053736875274308, -1.5454278393385146, -1.5225125897317824, -0.23671914937156435, -0.2447156412290113, -1.4325977447537221, -0.16624751103389468, -0.18168701739897558, -0.04311506139166234, -0.1719069697212854, -1.2121199030829215, -1.2241232127435846, 0.22485527030599564, -1.104440986026849, -1.174259402048701, -1.004203524714457, 0.32625267632892296, -1.0156190695273366, 0.24789831732088882, -0.8895742893243901, 0.44888152110434376, 0.5307687042548931, 0.5233272485112127, 0.6264583378713806, -0.622127823770435, -0.587210823266993, -0.5150382303260995, -0.5550923821371829, 0.779947492864025, 0.8085829823343219, -0.4846519137695769, 0.8555375799963977, -0.43252899482979623, 0.8641389804506137, -0.4136392655392189, -0.3214653123162615, 0.9385862666214361, -0.2796463071978739, -0.27907412733512205, 1.0067504829951597, -0.2864532431386754, 1.1161100933775643, -0.24693698369237357, -0.114141375087441, 1.1831143650407525, 1.11786092046379, 1.1104194647201093, -0.18336734996964946, -0.07976382571273388, 0.03244421652630447, 1.212914475513445, -0.047104374690235526, 1.3514692877717729, -0.06481389799338555, 0.09374071578305297, 1.455680838153364, 0.0708613124382447, 1.4121936071657695, 1.3669726928409345, 0.06343544167959594, 0.19738008630189227, 0.13098072323547255, 0.11094663421939163, 0.18766549609223607, 0.27126921883104105, 0.2787761320427556, 0.41044608343512295, 1.5817754908393125, 1.6596231274526287, 1.66820738415786, 0.45512754663122307, 1.6722329044740145, 1.842890572877121, 0.703127688016881, 0.762674918951357, 2.083400944800049, 2.040504596188145, 0.8446104158209552, 0.8102671539442186, 1.1458606921229124, 1.3245678423943745, 2.765010382457772, 3.1372561632411022]}, {\"hovertemplate\": \"class=%{marker.color}<br>principle component 1=%{x}<br>principle component 2=%{y}<extra></extra>\", \"legendgroup\": \"0\", \"marker\": {\"color\": [0, 0, 0, 0, 0, 0, 0, 0, 0, 0, 0, 0, 0, 0, 0, 0, 0, 0, 0, 0, 0, 0, 0, 0, 0, 0, 0, 0, 0, 0, 0, 0, 0, 0, 0, 0, 0, 0, 0, 0, 0, 0, 0, 0, 0, 0, 0, 0, 0, 0, 0, 0, 0, 0, 0, 0, 0, 0, 0, 0, 0], \"coloraxis\": \"coloraxis\", \"symbol\": \"square\"}, \"mode\": \"markers\", \"name\": \"0\", \"scene\": \"scene\", \"showlegend\": true, \"type\": \"scatter3d\", \"x\": [2.774286226088667, 2.629050844956019, 1.4875878004377272, 2.5475919417038155, 2.201317214598138, 1.099728921816946, 1.0018365576425534, 0.916095461470392, 1.8686299121045262, 1.078272422122609, 1.650860881708704, 1.4381548317970319, 1.6768317273764535, 1.3459578368199991, 0.381292376140314, 1.1405519695231816, 0.0958845943591655, 1.9009082577261665, 0.8295735777340397, 0.7481787449289877, 0.9346177256723064, 1.4190395463925523, 0.6104116290174968, 1.1236941442060868, 1.8948525945810513, 1.6627794224561239, 1.5067418791514946, 0.8721257089736029, 2.3020342087232604, 1.7629489304732235, 0.5362090958896777, 1.1957003175874015, 0.35327209470348453, 1.8903588330351606, 0.5954509698400322, 1.0909071057857118, 1.3505121245054137, 0.8478645895546996, 1.1026387808437053, 1.48097905780205, 1.3328740858254853, 1.0400427519858488, 0.4849835474698612, 1.4544595776235634, 1.2192846616012663, 0.2641574863393405, 1.3069869943602088, 1.1895156128757869, 1.4271607847544416, 2.142050063509921, 2.2169249270629523, 0.1778677556564419, 1.5473086450691282, 0.18820561172151518, 1.2295390899347085, 0.7739577057261282, 0.2683756088121493, 1.0887092711656519, 1.0928883525986575, 0.6727511283562362, 0.7670962256094757], \"y\": [-0.8829876717475786, -0.8612370431432423, -0.572676027551783, -0.5279135219026172, -0.3881956474058473, -0.047514830402514044, 0.08362969608219709, 0.09679762674525594, -0.0176710825026329, 0.15981066559025983, 0.07337409597985271, 0.16384865336353965, 0.1569949624676428, 0.35284257370740973, 0.498237050640556, 0.38375275640763545, 0.5411676867504304, 0.2692700209386683, 0.43069176908467943, 0.6179675910763406, 0.6191290945508293, 0.5750665661725765, 0.6969923161491774, 0.6489260874956151, 0.5327252536744391, 0.5676422541778812, 0.5911109811344264, 0.9203809296167398, 0.705154010440663, 0.786437843758397, 1.0297483338189108, -0.4037298616894145, 1.0864331066756745, -0.45006396576968954, 1.1374256921110297, 1.062435837283566, 1.0527228058378633, -0.20559508976259352, -0.24394672820649996, 1.0332624554484877, 1.055586822679529, -0.2055810635415151, 1.270863614338608, 1.2411585725400598, 1.3058585397672093, 0.14486733368238305, 1.3219029547290593, 1.3396483242941328, -0.0010821793645301554, 1.225179615046244, 1.3597774819843578, 0.44955224792480436, 1.6065693649404313, 0.5062526057665999, 0.4078298702445142, 0.5349395264838522, 0.6110706235089131, 2.113398986440796, 0.9828408518675884, 1.2210609455755566, 2.861930094544689]}],\n",
       "                        {\"coloraxis\": {\"colorbar\": {\"title\": {\"text\": \"class\"}}, \"colorscale\": [[0.0, \"#0d0887\"], [0.1111111111111111, \"#46039f\"], [0.2222222222222222, \"#7201a8\"], [0.3333333333333333, \"#9c179e\"], [0.4444444444444444, \"#bd3786\"], [0.5555555555555556, \"#d8576b\"], [0.6666666666666666, \"#ed7953\"], [0.7777777777777778, \"#fb9f3a\"], [0.8888888888888888, \"#fdca26\"], [1.0, \"#f0f921\"]]}, \"legend\": {\"title\": {\"text\": \"class\"}, \"tracegroupgap\": 0, \"x\": 0, \"y\": 1}, \"margin\": {\"t\": 60}, \"scene\": {\"domain\": {\"x\": [0.0, 1.0], \"y\": [0.0, 1.0]}, \"xaxis\": {\"title\": {\"text\": \"principle component 1\"}}, \"yaxis\": {\"title\": {\"text\": \"principle component 2\"}}}, \"template\": {\"data\": {\"bar\": [{\"error_x\": {\"color\": \"#2a3f5f\"}, \"error_y\": {\"color\": \"#2a3f5f\"}, \"marker\": {\"line\": {\"color\": \"#E5ECF6\", \"width\": 0.5}}, \"type\": \"bar\"}], \"barpolar\": [{\"marker\": {\"line\": {\"color\": \"#E5ECF6\", \"width\": 0.5}}, \"type\": \"barpolar\"}], \"carpet\": [{\"aaxis\": {\"endlinecolor\": \"#2a3f5f\", \"gridcolor\": \"white\", \"linecolor\": \"white\", \"minorgridcolor\": \"white\", \"startlinecolor\": \"#2a3f5f\"}, \"baxis\": {\"endlinecolor\": \"#2a3f5f\", \"gridcolor\": \"white\", \"linecolor\": \"white\", \"minorgridcolor\": \"white\", \"startlinecolor\": \"#2a3f5f\"}, \"type\": \"carpet\"}], \"choropleth\": [{\"colorbar\": {\"outlinewidth\": 0, \"ticks\": \"\"}, \"type\": \"choropleth\"}], \"contour\": [{\"colorbar\": {\"outlinewidth\": 0, \"ticks\": \"\"}, \"colorscale\": [[0.0, \"#0d0887\"], [0.1111111111111111, \"#46039f\"], [0.2222222222222222, \"#7201a8\"], [0.3333333333333333, \"#9c179e\"], [0.4444444444444444, \"#bd3786\"], [0.5555555555555556, \"#d8576b\"], [0.6666666666666666, \"#ed7953\"], [0.7777777777777778, \"#fb9f3a\"], [0.8888888888888888, \"#fdca26\"], [1.0, \"#f0f921\"]], \"type\": \"contour\"}], \"contourcarpet\": [{\"colorbar\": {\"outlinewidth\": 0, \"ticks\": \"\"}, \"type\": \"contourcarpet\"}], \"heatmap\": [{\"colorbar\": {\"outlinewidth\": 0, \"ticks\": \"\"}, \"colorscale\": [[0.0, \"#0d0887\"], [0.1111111111111111, \"#46039f\"], [0.2222222222222222, \"#7201a8\"], [0.3333333333333333, \"#9c179e\"], [0.4444444444444444, \"#bd3786\"], [0.5555555555555556, \"#d8576b\"], [0.6666666666666666, \"#ed7953\"], [0.7777777777777778, \"#fb9f3a\"], [0.8888888888888888, \"#fdca26\"], [1.0, \"#f0f921\"]], \"type\": \"heatmap\"}], \"heatmapgl\": [{\"colorbar\": {\"outlinewidth\": 0, \"ticks\": \"\"}, \"colorscale\": [[0.0, \"#0d0887\"], [0.1111111111111111, \"#46039f\"], [0.2222222222222222, \"#7201a8\"], [0.3333333333333333, \"#9c179e\"], [0.4444444444444444, \"#bd3786\"], [0.5555555555555556, \"#d8576b\"], [0.6666666666666666, \"#ed7953\"], [0.7777777777777778, \"#fb9f3a\"], [0.8888888888888888, \"#fdca26\"], [1.0, \"#f0f921\"]], \"type\": \"heatmapgl\"}], \"histogram\": [{\"marker\": {\"colorbar\": {\"outlinewidth\": 0, \"ticks\": \"\"}}, \"type\": \"histogram\"}], \"histogram2d\": [{\"colorbar\": {\"outlinewidth\": 0, \"ticks\": \"\"}, \"colorscale\": [[0.0, \"#0d0887\"], [0.1111111111111111, \"#46039f\"], [0.2222222222222222, \"#7201a8\"], [0.3333333333333333, \"#9c179e\"], [0.4444444444444444, \"#bd3786\"], [0.5555555555555556, \"#d8576b\"], [0.6666666666666666, \"#ed7953\"], [0.7777777777777778, \"#fb9f3a\"], [0.8888888888888888, \"#fdca26\"], [1.0, \"#f0f921\"]], \"type\": \"histogram2d\"}], \"histogram2dcontour\": [{\"colorbar\": {\"outlinewidth\": 0, \"ticks\": \"\"}, \"colorscale\": [[0.0, \"#0d0887\"], [0.1111111111111111, \"#46039f\"], [0.2222222222222222, \"#7201a8\"], [0.3333333333333333, \"#9c179e\"], [0.4444444444444444, \"#bd3786\"], [0.5555555555555556, \"#d8576b\"], [0.6666666666666666, \"#ed7953\"], [0.7777777777777778, \"#fb9f3a\"], [0.8888888888888888, \"#fdca26\"], [1.0, \"#f0f921\"]], \"type\": \"histogram2dcontour\"}], \"mesh3d\": [{\"colorbar\": {\"outlinewidth\": 0, \"ticks\": \"\"}, \"type\": \"mesh3d\"}], \"parcoords\": [{\"line\": {\"colorbar\": {\"outlinewidth\": 0, \"ticks\": \"\"}}, \"type\": \"parcoords\"}], \"pie\": [{\"automargin\": true, \"type\": \"pie\"}], \"scatter\": [{\"marker\": {\"colorbar\": {\"outlinewidth\": 0, \"ticks\": \"\"}}, \"type\": \"scatter\"}], \"scatter3d\": [{\"line\": {\"colorbar\": {\"outlinewidth\": 0, \"ticks\": \"\"}}, \"marker\": {\"colorbar\": {\"outlinewidth\": 0, \"ticks\": \"\"}}, \"type\": \"scatter3d\"}], \"scattercarpet\": [{\"marker\": {\"colorbar\": {\"outlinewidth\": 0, \"ticks\": \"\"}}, \"type\": \"scattercarpet\"}], \"scattergeo\": [{\"marker\": {\"colorbar\": {\"outlinewidth\": 0, \"ticks\": \"\"}}, \"type\": \"scattergeo\"}], \"scattergl\": [{\"marker\": {\"colorbar\": {\"outlinewidth\": 0, \"ticks\": \"\"}}, \"type\": \"scattergl\"}], \"scattermapbox\": [{\"marker\": {\"colorbar\": {\"outlinewidth\": 0, \"ticks\": \"\"}}, \"type\": \"scattermapbox\"}], \"scatterpolar\": [{\"marker\": {\"colorbar\": {\"outlinewidth\": 0, \"ticks\": \"\"}}, \"type\": \"scatterpolar\"}], \"scatterpolargl\": [{\"marker\": {\"colorbar\": {\"outlinewidth\": 0, \"ticks\": \"\"}}, \"type\": \"scatterpolargl\"}], \"scatterternary\": [{\"marker\": {\"colorbar\": {\"outlinewidth\": 0, \"ticks\": \"\"}}, \"type\": \"scatterternary\"}], \"surface\": [{\"colorbar\": {\"outlinewidth\": 0, \"ticks\": \"\"}, \"colorscale\": [[0.0, \"#0d0887\"], [0.1111111111111111, \"#46039f\"], [0.2222222222222222, \"#7201a8\"], [0.3333333333333333, \"#9c179e\"], [0.4444444444444444, \"#bd3786\"], [0.5555555555555556, \"#d8576b\"], [0.6666666666666666, \"#ed7953\"], [0.7777777777777778, \"#fb9f3a\"], [0.8888888888888888, \"#fdca26\"], [1.0, \"#f0f921\"]], \"type\": \"surface\"}], \"table\": [{\"cells\": {\"fill\": {\"color\": \"#EBF0F8\"}, \"line\": {\"color\": \"white\"}}, \"header\": {\"fill\": {\"color\": \"#C8D4E3\"}, \"line\": {\"color\": \"white\"}}, \"type\": \"table\"}]}, \"layout\": {\"annotationdefaults\": {\"arrowcolor\": \"#2a3f5f\", \"arrowhead\": 0, \"arrowwidth\": 1}, \"coloraxis\": {\"colorbar\": {\"outlinewidth\": 0, \"ticks\": \"\"}}, \"colorscale\": {\"diverging\": [[0, \"#8e0152\"], [0.1, \"#c51b7d\"], [0.2, \"#de77ae\"], [0.3, \"#f1b6da\"], [0.4, \"#fde0ef\"], [0.5, \"#f7f7f7\"], [0.6, \"#e6f5d0\"], [0.7, \"#b8e186\"], [0.8, \"#7fbc41\"], [0.9, \"#4d9221\"], [1, \"#276419\"]], \"sequential\": [[0.0, \"#0d0887\"], [0.1111111111111111, \"#46039f\"], [0.2222222222222222, \"#7201a8\"], [0.3333333333333333, \"#9c179e\"], [0.4444444444444444, \"#bd3786\"], [0.5555555555555556, \"#d8576b\"], [0.6666666666666666, \"#ed7953\"], [0.7777777777777778, \"#fb9f3a\"], [0.8888888888888888, \"#fdca26\"], [1.0, \"#f0f921\"]], \"sequentialminus\": [[0.0, \"#0d0887\"], [0.1111111111111111, \"#46039f\"], [0.2222222222222222, \"#7201a8\"], [0.3333333333333333, \"#9c179e\"], [0.4444444444444444, \"#bd3786\"], [0.5555555555555556, \"#d8576b\"], [0.6666666666666666, \"#ed7953\"], [0.7777777777777778, \"#fb9f3a\"], [0.8888888888888888, \"#fdca26\"], [1.0, \"#f0f921\"]]}, \"colorway\": [\"#636efa\", \"#EF553B\", \"#00cc96\", \"#ab63fa\", \"#FFA15A\", \"#19d3f3\", \"#FF6692\", \"#B6E880\", \"#FF97FF\", \"#FECB52\"], \"font\": {\"color\": \"#2a3f5f\"}, \"geo\": {\"bgcolor\": \"white\", \"lakecolor\": \"white\", \"landcolor\": \"#E5ECF6\", \"showlakes\": true, \"showland\": true, \"subunitcolor\": \"white\"}, \"hoverlabel\": {\"align\": \"left\"}, \"hovermode\": \"closest\", \"mapbox\": {\"style\": \"light\"}, \"paper_bgcolor\": \"white\", \"plot_bgcolor\": \"#E5ECF6\", \"polar\": {\"angularaxis\": {\"gridcolor\": \"white\", \"linecolor\": \"white\", \"ticks\": \"\"}, \"bgcolor\": \"#E5ECF6\", \"radialaxis\": {\"gridcolor\": \"white\", \"linecolor\": \"white\", \"ticks\": \"\"}}, \"scene\": {\"xaxis\": {\"backgroundcolor\": \"#E5ECF6\", \"gridcolor\": \"white\", \"gridwidth\": 2, \"linecolor\": \"white\", \"showbackground\": true, \"ticks\": \"\", \"zerolinecolor\": \"white\"}, \"yaxis\": {\"backgroundcolor\": \"#E5ECF6\", \"gridcolor\": \"white\", \"gridwidth\": 2, \"linecolor\": \"white\", \"showbackground\": true, \"ticks\": \"\", \"zerolinecolor\": \"white\"}, \"zaxis\": {\"backgroundcolor\": \"#E5ECF6\", \"gridcolor\": \"white\", \"gridwidth\": 2, \"linecolor\": \"white\", \"showbackground\": true, \"ticks\": \"\", \"zerolinecolor\": \"white\"}}, \"shapedefaults\": {\"line\": {\"color\": \"#2a3f5f\"}}, \"ternary\": {\"aaxis\": {\"gridcolor\": \"white\", \"linecolor\": \"white\", \"ticks\": \"\"}, \"baxis\": {\"gridcolor\": \"white\", \"linecolor\": \"white\", \"ticks\": \"\"}, \"bgcolor\": \"#E5ECF6\", \"caxis\": {\"gridcolor\": \"white\", \"linecolor\": \"white\", \"ticks\": \"\"}}, \"title\": {\"x\": 0.05}, \"xaxis\": {\"automargin\": true, \"gridcolor\": \"white\", \"linecolor\": \"white\", \"ticks\": \"\", \"title\": {\"standoff\": 15}, \"zerolinecolor\": \"white\", \"zerolinewidth\": 2}, \"yaxis\": {\"automargin\": true, \"gridcolor\": \"white\", \"linecolor\": \"white\", \"ticks\": \"\", \"title\": {\"standoff\": 15}, \"zerolinecolor\": \"white\", \"zerolinewidth\": 2}}}, \"width\": 800},\n",
       "                        {\"responsive\": true}\n",
       "                    ).then(function(){\n",
       "                            \n",
       "var gd = document.getElementById('b1b3edd0-fdac-4eb1-a395-5e58ba70e98d');\n",
       "var x = new MutationObserver(function (mutations, observer) {{\n",
       "        var display = window.getComputedStyle(gd).display;\n",
       "        if (!display || display === 'none') {{\n",
       "            console.log([gd, 'removed!']);\n",
       "            Plotly.purge(gd);\n",
       "            observer.disconnect();\n",
       "        }}\n",
       "}});\n",
       "\n",
       "// Listen for the removal of the full notebook cells\n",
       "var notebookContainer = gd.closest('#notebook-container');\n",
       "if (notebookContainer) {{\n",
       "    x.observe(notebookContainer, {childList: true});\n",
       "}}\n",
       "\n",
       "// Listen for the clearing of the current output cell\n",
       "var outputEl = gd.closest('.output');\n",
       "if (outputEl) {{\n",
       "    x.observe(outputEl, {childList: true});\n",
       "}}\n",
       "\n",
       "                        })\n",
       "                };\n",
       "                });\n",
       "            </script>\n",
       "        </div>"
      ]
     },
     "metadata": {},
     "output_type": "display_data"
    }
   ],
   "source": [
    "fig = px.scatter_3d(\n",
    "    df_shopping_pca2,\n",
    "    x=\"principle component 1\",\n",
    "    y=\"principle component 2\",\n",
    "    color=\"class\",\n",
    "    symbol=\"class\",\n",
    "    width=800,\n",
    ")\n",
    "fig.update_layout(legend=dict(x=0, y=1))\n",
    "fig.show()\n"
   ]
  },
  {
   "cell_type": "code",
   "execution_count": 82,
   "metadata": {},
   "outputs": [],
   "source": [
    "dfCentroids=pd.DataFrame(model.cluster_centers_, columns=['PC1', 'PC2', 'PC3'])"
   ]
  },
  {
   "cell_type": "code",
   "execution_count": null,
   "metadata": {},
   "outputs": [],
   "source": []
  }
 ],
 "metadata": {
  "file_extension": ".py",
  "kernel_info": {
   "name": "python3"
  },
  "kernelspec": {
   "display_name": "Python 3",
   "language": "python",
   "name": "python3"
  },
  "language_info": {
   "codemirror_mode": {
    "name": "ipython",
    "version": 3
   },
   "file_extension": ".py",
   "mimetype": "text/x-python",
   "name": "python",
   "nbconvert_exporter": "python",
   "pygments_lexer": "ipython3",
   "version": "3.7.7"
  },
  "mimetype": "text/x-python",
  "name": "python",
  "npconvert_exporter": "python",
  "nteract": {
   "version": "0.12.3"
  },
  "pygments_lexer": "ipython3",
  "version": 3
 },
 "nbformat": 4,
 "nbformat_minor": 4
}
